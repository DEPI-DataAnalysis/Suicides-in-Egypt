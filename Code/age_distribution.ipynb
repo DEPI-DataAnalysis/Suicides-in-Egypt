{
 "cells": [
  {
   "cell_type": "code",
   "execution_count": 1,
   "id": "220bbdeb",
   "metadata": {},
   "outputs": [],
   "source": [
    "import pandas as pd\n",
    "import plotly.express as px\n",
    "import plotly.io as pio\n",
    "import os\n",
    "\n",
    "df = pd.read_excel(r\"C:\\Projects\\Suicides in Egypt\\Suicides in Egypt.xlsx\" , sheet_name='Table1')\n",
    "\n",
    "os.chdir(r\"C:\\Projects\\Suicides in Egypt\\Plots\")\n",
    "pio.renderers.default = \"browser\"\n",
    "\n",
    "fig = px.histogram(df, x='العمر', nbins=15,\n",
    "                color_discrete_sequence=[\"#FF1212\"])\n",
    "\n",
    "fig.update_layout(title=dict(x=0.95, y=0.95, text='الانتحارات حسب توزيع الأعمار', font=dict(size=25, weight='bold')),\n",
    "                xaxis_title='العمر', \n",
    "                yaxis_title='عدد الحالات', \n",
    "                xaxis=dict(tickmode='linear', dtick=5, range=[10, 90]), \n",
    "                yaxis=dict(tickmode='linear', dtick=50, gridcolor=\"#DCDCDC\"), \n",
    "                font=dict(family=\"Noto Kufi Arabic, Arial, sans-serif\", size=25, color=\"black\"), \n",
    "                plot_bgcolor='white')\n",
    "\n",
    "fig.update_traces(marker_line_width=1.2, \n",
    "                marker_line_color=\"black\")\n",
    "\n",
    "\n",
    "html = fig.to_html(include_plotlyjs=\"cdn\")\n",
    "\n",
    "font_injection = \"\"\"\n",
    "<link rel=\"preconnect\" href=\"https://fonts.googleapis.com\">\n",
    "<link rel=\"preconnect\" href=\"https://fonts.gstatic.com\" crossorigin>\n",
    "<link href=\"https://fonts.googleapis.com/css2?family=Noto+Kufi+Arabic:wght@100..900&display=swap\" rel=\"stylesheet\">\n",
    "<style>\n",
    "body, .plotly text, .plotly .xtick text, .plotly .ytick text,\n",
    ".plotly .legend text, .gtitle {\n",
    "font-family: 'Noto Kufi Arabic', Arial, sans-serif !important;\n",
    "}\n",
    "</style>\n",
    "\"\"\"\n",
    "\n",
    "html = html.replace(\"<head>\", \"<head>\" + font_injection)\n",
    "with open(\"age_distribution.html\", \"w\", encoding=\"utf-8\") as f:\n",
    "    f.write(html)\n"
   ]
  }
 ],
 "metadata": {
  "kernelspec": {
   "display_name": "sula",
   "language": "python",
   "name": "python3"
  },
  "language_info": {
   "codemirror_mode": {
    "name": "ipython",
    "version": 3
   },
   "file_extension": ".py",
   "mimetype": "text/x-python",
   "name": "python",
   "nbconvert_exporter": "python",
   "pygments_lexer": "ipython3",
   "version": "3.12.3"
  }
 },
 "nbformat": 4,
 "nbformat_minor": 5
}
